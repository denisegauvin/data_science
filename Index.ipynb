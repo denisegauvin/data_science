{
 "cells": [
  {
   "cell_type": "markdown",
   "metadata": {},
   "source": [
    "<img style =\"width:1024px;\"  src =\"summaryslide_1.png\" />"
   ]
  },
  {
   "cell_type": "markdown",
   "metadata": {},
   "source": [
    "# 1. Amazon Alexa Reviews\n",
    "### References\n",
    "\n",
    "Dataset from Kaggle\n",
    "> https://www.kaggle.com/sid321axn/amazon-alexa-reviews\n",
    "\n",
    "Notebooks\n",
    ">[1.1 Amazon Alexa Reviews](1.1amazon_alexa.ipynb) [Hacky with inline text pre-processing]\n",
    ">\n",
    ">[1.2 Amazon Alexa Reviews](1.2amazon_alexa.ipynb) [Function for text pre-processing]\n",
    ">\n",
    ">[1.3 Amazon Alexa Reviews](amazon_alexa.ipynb) [Function with n-grams]"
   ]
  },
  {
   "cell_type": "markdown",
   "metadata": {},
   "source": [
    "# 2. Google Play Store App Reviews\n",
    "### References\n",
    "Dataset from Kaggle\n",
    "> https://www.kaggle.com/lava18/google-play-store-apps\n",
    "\n",
    "Notebook\n",
    "> [2.1 Google Play Store App Reviews](2.1googleplaystore.ipynb) [Final Project]"
   ]
  },
  {
   "cell_type": "markdown",
   "metadata": {},
   "source": [
    "# 3. Adventure - Scraping UI Data\n",
    "To date, no UI datasets found. Explored scraping dribbble and awwwards.\n",
    "Next steps would require parsing the scraped html, extracting the url to insert into a function that would scrape for tags and images.\n",
    "\n",
    "Notebook\n",
    "> [UI Data Scrape](ui_data_scrape.ipynb) [Side hustle]"
   ]
  }
 ],
 "metadata": {
  "kernelspec": {
   "display_name": "Python 3",
   "language": "python",
   "name": "python3"
  },
  "language_info": {
   "codemirror_mode": {
    "name": "ipython",
    "version": 3
   },
   "file_extension": ".py",
   "mimetype": "text/x-python",
   "name": "python",
   "nbconvert_exporter": "python",
   "pygments_lexer": "ipython3",
   "version": "3.7.3"
  }
 },
 "nbformat": 4,
 "nbformat_minor": 4
}
